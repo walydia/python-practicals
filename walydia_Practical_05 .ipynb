{
 "cells": [
  {
   "cell_type": "markdown",
   "metadata": {
    "id": "QYZn2ujP9tcA"
   },
   "source": [
    "\n",
    "\n",
    "    \n",
    "#    <center> <b> <span style=\"color:orange;\" >  `Python for Scientific Computing and Software Engineering ` </span> </b></center>\n",
    "\n",
    "\n",
    "## <center> <b> <span style=\"color:orange;\"> An Initiation to Programming using Python (Init2Py) </span> </b></center>\n",
    "\n",
    "### <center> <b> <span style=\"color:blue;\"> Travaux Pratiques: Fonctions</span> </b></center>\n",
    "\n"
   ]
  },
  {
   "cell_type": "markdown",
   "metadata": {},
   "source": [
    "## MAMADOU WALY DIA MANGA"
   ]
  },
  {
   "cell_type": "markdown",
   "metadata": {
    "id": "iMDzVKcl9tcE"
   },
   "source": [
    "#### **Exercice 00:**  \n",
    "> **Écrire une fonction `cube` qui retourne le cube de son argument.**"
   ]
  },
  {
   "cell_type": "code",
   "execution_count": 3,
   "metadata": {
    "id": "EbftYW1V9tcF"
   },
   "outputs": [],
   "source": [
    "def cube(n):\n",
    "    print(n**3)"
   ]
  },
  {
   "cell_type": "code",
   "execution_count": 4,
   "metadata": {},
   "outputs": [
    {
     "name": "stdout",
     "output_type": "stream",
     "text": [
      "8\n"
     ]
    }
   ],
   "source": [
    "cube(2)"
   ]
  },
  {
   "cell_type": "markdown",
   "metadata": {
    "id": "m1ac89qS9tcH"
   },
   "source": [
    "#### **Exercice 01:**  \n",
    "> **Déclarez une fonction `ajouter_deux_nombres`. Elle prend deux paramètres et renvoie leur somme.**"
   ]
  },
  {
   "cell_type": "code",
   "execution_count": 5,
   "metadata": {
    "id": "E_AgGmNy9tcH"
   },
   "outputs": [],
   "source": [
    "def ajouter_deux_nombres(n,m):\n",
    "    s=n+m\n",
    "    print(s , \" est la somme demande\")"
   ]
  },
  {
   "cell_type": "code",
   "execution_count": 6,
   "metadata": {},
   "outputs": [
    {
     "name": "stdout",
     "output_type": "stream",
     "text": [
      "5  est la somme demande\n"
     ]
    }
   ],
   "source": [
    "ajouter_deux_nombres(2,3)"
   ]
  },
  {
   "cell_type": "markdown",
   "metadata": {
    "id": "PKjvAV4y9tcJ"
   },
   "source": [
    "#### **Exercice 02:**  \n",
    "> **L'aire d'un cercle se calcule comme suit : aire = pi x r x r avec pi=3,14. Écrivez une fonction `aire_du_cercle` qui prend le rayon en argument et calcule l'aire du cercle correspodant.**"
   ]
  },
  {
   "cell_type": "code",
   "execution_count": 7,
   "metadata": {
    "id": "AxGzHKXX9tcL"
   },
   "outputs": [],
   "source": [
    "import math\n",
    "def aire_du_cercle(r):\n",
    "    aire=math.pi*r**2\n",
    "    print(aire, \"est l'aire du cercle\")"
   ]
  },
  {
   "cell_type": "code",
   "execution_count": 8,
   "metadata": {},
   "outputs": [
    {
     "name": "stdout",
     "output_type": "stream",
     "text": [
      "12.566370614359172 est l'aire du cercle\n"
     ]
    }
   ],
   "source": [
    "aire_du_cercle(2)"
   ]
  },
  {
   "cell_type": "markdown",
   "metadata": {
    "id": "6OBRL3oj9tcL"
   },
   "source": [
    "#### **Exercice 03:**  \n",
    "> **La température en °C peut être convertie en °F à l'aide de cette formule : °F = (°C x 9/5) + 32. Écrivez une fonction `convert_celsius_en_fahrenheit` qui convertit les °C en °F**."
   ]
  },
  {
   "cell_type": "code",
   "execution_count": 9,
   "metadata": {
    "id": "LpDPEBxn9tcN"
   },
   "outputs": [],
   "source": [
    "def convert_celsius_en_fahrenheit(C):\n",
    "    F=((C*9)/5)+32\n",
    "    print(F , \" la valeur convertie\")"
   ]
  },
  {
   "cell_type": "code",
   "execution_count": 11,
   "metadata": {},
   "outputs": [
    {
     "name": "stdout",
     "output_type": "stream",
     "text": [
      "41.0  la valeur convertie\n"
     ]
    }
   ],
   "source": [
    "convert_celsius_en_fahrenheit(5)"
   ]
  },
  {
   "cell_type": "markdown",
   "metadata": {
    "id": "rJRPsZ2h9tcP"
   },
   "source": [
    "#### **Exercice 04:** \n",
    ">**Écrire une fonction somme avec un argument « tuple-delongueurvariable » qui calcule la somme des nombres contenus dans le tuple.Tester cette fonction par des appels avec différents tuples d’entiers ou de flottants.**"
   ]
  },
  {
   "cell_type": "code",
   "execution_count": 62,
   "metadata": {
    "id": "7qn8Czdc9tcP"
   },
   "outputs": [],
   "source": [
    "def waly(t):\n",
    "    s=0\n",
    "    for a in t:\n",
    "        s=s+a\n",
    "    return s\n",
    "      "
   ]
  },
  {
   "cell_type": "code",
   "execution_count": 64,
   "metadata": {},
   "outputs": [
    {
     "data": {
      "text/plain": [
       "13"
      ]
     },
     "execution_count": 64,
     "metadata": {},
     "output_type": "execute_result"
    }
   ],
   "source": [
    "waly((2,3,8))"
   ]
  },
  {
   "cell_type": "markdown",
   "metadata": {
    "id": "kls1kYNh9tcR"
   },
   "source": [
    "#### **Exercice 05:** \n",
    ">**Ecrire `somme_liste` qui calcule la somme des nombres contenus dans une liste.Tester cette fonction par des appels avec différents listes d’entiers ou de flottants.**"
   ]
  },
  {
   "cell_type": "code",
   "execution_count": 65,
   "metadata": {
    "id": "khKG2ee49tcS"
   },
   "outputs": [],
   "source": [
    "def somme_liste(l):\n",
    "    s=0\n",
    "    for b in l:\n",
    "        s=s+b\n",
    "    return s"
   ]
  },
  {
   "cell_type": "code",
   "execution_count": 68,
   "metadata": {},
   "outputs": [
    {
     "data": {
      "text/plain": [
       "7"
      ]
     },
     "execution_count": 68,
     "metadata": {},
     "output_type": "execute_result"
    }
   ],
   "source": [
    "somme_liste([2,5])"
   ]
  },
  {
   "cell_type": "code",
   "execution_count": 69,
   "metadata": {},
   "outputs": [
    {
     "data": {
      "text/plain": [
       "7.5"
      ]
     },
     "execution_count": 69,
     "metadata": {},
     "output_type": "execute_result"
    }
   ],
   "source": [
    "somme_liste([2.5,5])"
   ]
  },
  {
   "cell_type": "markdown",
   "metadata": {
    "id": "l4gQECfk9tcS"
   },
   "source": [
    "#### **Exercice 06:** \n",
    ">**Écrire une fonction somme qui  prend en argument un entier $n$ et retourne la somme  des $n$-prémiers entiers naturels.**"
   ]
  },
  {
   "cell_type": "code",
   "execution_count": 14,
   "metadata": {
    "id": "KfbcZiGS9tcT"
   },
   "outputs": [],
   "source": [
    "def somme(n):\n",
    "    s=0\n",
    "    for i in range(1,n+1):\n",
    "        s=s+i\n",
    "    print(s , \"est la des   𝑛 -prémiers entiers naturels \")"
   ]
  },
  {
   "cell_type": "code",
   "execution_count": 15,
   "metadata": {},
   "outputs": [
    {
     "name": "stdout",
     "output_type": "stream",
     "text": [
      "15 est la des   𝑛 -prémiers entiers naturels \n"
     ]
    }
   ],
   "source": [
    "somme(5)"
   ]
  },
  {
   "cell_type": "markdown",
   "metadata": {
    "id": "tK9EsjZf9tcU"
   },
   "source": [
    "#### **Exercice 07:** \n",
    ">**Écrire une fonction `nom` qui demande à l'utilisateur d'entrer son nom ensuite son prénom et affiche son prénom suivit de son nom.**"
   ]
  },
  {
   "cell_type": "code",
   "execution_count": 19,
   "metadata": {
    "id": "REF7Fa939tcW"
   },
   "outputs": [],
   "source": [
    "def nom():\n",
    "    ch=str(input(\"entrer son nom \" , ))\n",
    "    ch1=str(input(\"entrer son prenom \" , ))\n",
    "    print(ch1,\" \", ch)\n",
    "    "
   ]
  },
  {
   "cell_type": "code",
   "execution_count": 20,
   "metadata": {},
   "outputs": [
    {
     "name": "stdout",
     "output_type": "stream",
     "text": [
      "entrer son nom MANGA\n",
      "entrer son prenom MAMADOU WALY DIA\n",
      "MAMADOU WALY DIA   MANGA\n"
     ]
    }
   ],
   "source": [
    "nom()"
   ]
  },
  {
   "cell_type": "markdown",
   "metadata": {
    "id": "YSwrwcEz9tcX"
   },
   "source": [
    "#### **Exercice 08:** \n",
    ">**Écrire une fonction `nom` qui demande à l'utilisateur d'entrer son nom ensuite son prénom et affiche son prénom suivit de son nom.**"
   ]
  },
  {
   "cell_type": "code",
   "execution_count": 21,
   "metadata": {
    "id": "mRk-8h1P9tcZ"
   },
   "outputs": [],
   "source": [
    "def nom():\n",
    "    ch1=str(input(\"entrer son nom \" , ))\n",
    "    ch2=str(input(\"entrer son prenom \" , ))\n",
    "    print(ch2,\" \", ch1)\n",
    "    "
   ]
  },
  {
   "cell_type": "code",
   "execution_count": 22,
   "metadata": {},
   "outputs": [
    {
     "name": "stdout",
     "output_type": "stream",
     "text": [
      "entrer son nom MANGA\n",
      "entrer son prenom MAMADOU WALY DIA\n",
      "MAMADOU WALY DIA   MANGA\n"
     ]
    }
   ],
   "source": [
    "nom()"
   ]
  },
  {
   "cell_type": "markdown",
   "metadata": {
    "id": "VYtzHXAd9tck"
   },
   "source": [
    "#### **Exercice 09:** \n",
    ">**Ecris une fonction `Maximum` qui renvoie le minimum de trois nombres.**"
   ]
  },
  {
   "cell_type": "code",
   "execution_count": 1,
   "metadata": {
    "id": "A4tQ-qQQ9tcl"
   },
   "outputs": [],
   "source": [
    "def Maximum(n,m,p):\n",
    "    l=min(n,m,p)\n",
    "    print(l)\n",
    "   "
   ]
  },
  {
   "cell_type": "code",
   "execution_count": 2,
   "metadata": {},
   "outputs": [
    {
     "name": "stdout",
     "output_type": "stream",
     "text": [
      "1\n"
     ]
    }
   ],
   "source": [
    "Maximum(2,1,5)"
   ]
  },
  {
   "cell_type": "markdown",
   "metadata": {
    "id": "gTpTAnGm9tcm"
   },
   "source": [
    "#### **Exercice 10:**\n",
    ">**Soit $f(x)=ax^2+bx+c$ un trinôme du second degré.**\n",
    " 1. **Ecris une fonction `Discriminant` qui calcule son discriminant.**\n",
    " 2. **Ecris ensuite une fonction `existence_des_racines_du_trinome` qui discute suivant les valeurs du discriminant, l'existence de ses racines.** \n"
   ]
  },
  {
   "cell_type": "code",
   "execution_count": 52,
   "metadata": {},
   "outputs": [],
   "source": [
    "def Discriminant(a,b,c):\n",
    "    det=b**2-4*a*c\n",
    "    return det"
   ]
  },
  {
   "cell_type": "code",
   "execution_count": 53,
   "metadata": {},
   "outputs": [],
   "source": [
    "D=Discriminant(4,-2,3)"
   ]
  },
  {
   "cell_type": "code",
   "execution_count": 54,
   "metadata": {},
   "outputs": [],
   "source": [
    "def existence_des_racines_du_trinome():\n",
    "    if D>0:\n",
    "        print(\"l'equation admet deux solutions distinctes x1 et x2\")\n",
    "    elif D<0:\n",
    "        print(\"l'equation n'a pas de solutions\")\n",
    "    else:\n",
    "        print(\"l'equation admet une unique solution x0\")\n",
    "    \n",
    "   "
   ]
  },
  {
   "cell_type": "code",
   "execution_count": 55,
   "metadata": {},
   "outputs": [
    {
     "name": "stdout",
     "output_type": "stream",
     "text": [
      "l'equation n'a pas de solutions\n"
     ]
    }
   ],
   "source": [
    "existence_des_racines_du_trinome()"
   ]
  },
  {
   "cell_type": "markdown",
   "metadata": {
    "id": "WgJ06GHA9tcn"
   },
   "source": [
    "#### **Exercice 11:**\n",
    ">**Ecris une fonction qui affiche le reste de la division euclidienne d'un entier naturel $a$ par un entier naturel $b$**.\n"
   ]
  },
  {
   "cell_type": "code",
   "execution_count": 20,
   "metadata": {
    "id": "S1uM-Jca9tcn"
   },
   "outputs": [],
   "source": [
    "def reste(a,b):\n",
    "    r=int(a)%int(b)\n",
    "    print(r ,\" le reste de la division entre a et b\")"
   ]
  },
  {
   "cell_type": "code",
   "execution_count": 21,
   "metadata": {},
   "outputs": [
    {
     "name": "stdout",
     "output_type": "stream",
     "text": [
      "0  le reste de la division entre a et b\n"
     ]
    }
   ],
   "source": [
    "reste(4,2)"
   ]
  },
  {
   "cell_type": "markdown",
   "metadata": {
    "id": "dtC_cOVJ9tco"
   },
   "source": [
    "#### **Exercice 12:**\n",
    ">**Ecris une fonction `terme_suite_geometrique` qui affiche le n-ième terme d'une suite géométrique $(v_n)$ de premier terme $v_0$ et de raison $q$. Teste ce programme pour $v_0=2, q=3$ et $n=4$.**"
   ]
  },
  {
   "cell_type": "code",
   "execution_count": 25,
   "metadata": {
    "id": "TeLDRV8N9tco"
   },
   "outputs": [],
   "source": [
    "def terme_suite_geometrique(n):\n",
    "    q=3\n",
    "    v=2\n",
    "    for i in range(n+1):\n",
    "        v=q*v\n",
    "    print(v)\n",
    "    "
   ]
  },
  {
   "cell_type": "code",
   "execution_count": 26,
   "metadata": {},
   "outputs": [
    {
     "name": "stdout",
     "output_type": "stream",
     "text": [
      "486\n"
     ]
    }
   ],
   "source": [
    "terme_suite_geometrique(4)"
   ]
  },
  {
   "cell_type": "markdown",
   "metadata": {
    "id": "GrmGuHwu9tco"
   },
   "source": [
    "#### **Exercice 13:**\n",
    ">**Écris une fonction `merci` prend en paramètre un `nom` et renvoie le message \"Merci pour votre présence à cet atelier,`nom`.**\n"
   ]
  },
  {
   "cell_type": "code",
   "execution_count": 34,
   "metadata": {
    "id": "NJ0z0iht9tco"
   },
   "outputs": [],
   "source": [
    "def merci(nom):\n",
    "    print(\"Merci pour votre présence à cet atelier \", nom)"
   ]
  },
  {
   "cell_type": "code",
   "execution_count": 35,
   "metadata": {},
   "outputs": [
    {
     "name": "stdout",
     "output_type": "stream",
     "text": [
      "Merci pour votre présence à cet atelier  MANGA\n"
     ]
    }
   ],
   "source": [
    "nom=\"MANGA\"\n",
    "merci(nom)"
   ]
  },
  {
   "cell_type": "markdown",
   "metadata": {
    "id": "T3jopRLc9tco"
   },
   "source": [
    "#### **Exercice 14:**\n",
    ">**Écris une fonction `ma_suite` qui définit la suite $(u_n)$ telle que  $$u_{n}=\\frac{2n^2+3n-1}{n+6}.$$\n",
    "Affiche son 5e terme.**\n"
   ]
  },
  {
   "cell_type": "code",
   "execution_count": 36,
   "metadata": {
    "id": "P1l82riw9tcp"
   },
   "outputs": [],
   "source": [
    "def ma_suite(n):\n",
    "    num=2*n**2 + 3*n-1\n",
    "    den=n+6\n",
    "    u=num/den\n",
    "    print(\"Le\", n,\"e terme de la suite est \", u)"
   ]
  },
  {
   "cell_type": "code",
   "execution_count": 38,
   "metadata": {},
   "outputs": [
    {
     "name": "stdout",
     "output_type": "stream",
     "text": [
      "Le 5 e terme de la suite est  5.818181818181818\n"
     ]
    }
   ],
   "source": [
    "ma_suite(5)"
   ]
  },
  {
   "cell_type": "markdown",
   "metadata": {
    "id": "SIizzU_A9tcp"
   },
   "source": [
    "\n",
    "\n",
    "<center> <b> <span style=\"color:orange;\"> 🎉 FÉLICITATIONS ! 🎉 </span> </b></center>"
   ]
  }
 ],
 "metadata": {
  "colab": {
   "name": "Exercices_04_Fonctions.ipynb",
   "provenance": []
  },
  "kernelspec": {
   "display_name": "Python 3",
   "language": "python",
   "name": "python3"
  },
  "language_info": {
   "codemirror_mode": {
    "name": "ipython",
    "version": 3
   },
   "file_extension": ".py",
   "mimetype": "text/x-python",
   "name": "python",
   "nbconvert_exporter": "python",
   "pygments_lexer": "ipython3",
   "version": "3.7.3"
  }
 },
 "nbformat": 4,
 "nbformat_minor": 5
}
