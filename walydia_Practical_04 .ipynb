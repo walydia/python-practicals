{
 "cells": [
  {
   "cell_type": "markdown",
   "metadata": {
    "id": "LPINvDFo9Nce"
   },
   "source": [
    "\n",
    "\n",
    "    \n",
    "#    <center> <b> <span style=\"color:orange;\" >  `Python for Scientific Computing and Software Engineering ` </span> </b></center>\n",
    "\n",
    "\n",
    "## <center> <b> <span style=\"color:orange;\"> An Initiation to Programming using Python (Init2Py) </span> </b></center>\n",
    "\n",
    "### <center> <b> <span style=\"color:blue;\"> Travaux Pratiques: Loops</span> </b></center>\n",
    "\n",
    "\n",
    "\n",
    "\n",
    "\n",
    "\n",
    "\n"
   ]
  },
  {
   "cell_type": "markdown",
   "metadata": {},
   "source": [
    "## MAMADOU WALY DIA MANGA"
   ]
  },
  {
   "cell_type": "markdown",
   "metadata": {
    "id": "0vAKMUYl9Nc1"
   },
   "source": [
    "#### Exercice 0\n",
    ">On se propose de résoudre dans l'ensemble des entiers naturels l'inéquation $2n(n+1)<100$.\n",
    "En utilisant une boucle **While**, écris un programme qui renvoie les solutions entières de cette inéquation."
   ]
  },
  {
   "cell_type": "code",
   "execution_count": 5,
   "metadata": {
    "id": "tnXJLyHA9Nc4"
   },
   "outputs": [
    {
     "name": "stdout",
     "output_type": "stream",
     "text": [
      "0\n",
      "1\n",
      "2\n",
      "3\n",
      "4\n",
      "5\n",
      "6\n"
     ]
    }
   ],
   "source": [
    "n=0\n",
    "while 2*n*(n+1)<100:\n",
    "    print(n)\n",
    "    n=n+1\n",
    "    \n"
   ]
  },
  {
   "cell_type": "markdown",
   "metadata": {
    "id": "USaieP9c9Nc5"
   },
   "source": [
    "#### Exercice 1\n",
    "> En utilisant une boucle **For**, écris un programme qui calcule la somme des 30 premiers entiers naturels non nuls."
   ]
  },
  {
   "cell_type": "code",
   "execution_count": 3,
   "metadata": {
    "id": "-a76WFyH9Nc7"
   },
   "outputs": [
    {
     "name": "stdout",
     "output_type": "stream",
     "text": [
      "465\n"
     ]
    }
   ],
   "source": [
    "\n",
    "s=0\n",
    "for n in range(1,31):\n",
    "    s=s+n\n",
    "print(s)"
   ]
  },
  {
   "cell_type": "markdown",
   "metadata": {
    "id": "_070Czs09Nc8"
   },
   "source": [
    "#### Exercice 2\n",
    ">Refais l'exercice 1 en utilisant une boucle **While**."
   ]
  },
  {
   "cell_type": "code",
   "execution_count": 7,
   "metadata": {
    "id": "m7dg2bhR9Nc9"
   },
   "outputs": [
    {
     "name": "stdout",
     "output_type": "stream",
     "text": [
      "465\n"
     ]
    }
   ],
   "source": [
    "s=0\n",
    "n=1\n",
    "while n<=30:\n",
    "    s=s+n\n",
    "    n=n+1\n",
    "print(s)"
   ]
  },
  {
   "cell_type": "markdown",
   "metadata": {
    "id": "Hg1vBggc9Nc_"
   },
   "source": [
    "#### Exercice 3\n",
    ">En utilisant une boucle **For**, écris un programme qui calcule le produit des 9 premiers entiers naturels non nuls."
   ]
  },
  {
   "cell_type": "code",
   "execution_count": 9,
   "metadata": {
    "id": "h0TkyvqS9NdB"
   },
   "outputs": [
    {
     "name": "stdout",
     "output_type": "stream",
     "text": [
      "362880\n"
     ]
    }
   ],
   "source": [
    "p=1\n",
    "for i in range(1,10):\n",
    "    p=p*i\n",
    "print(p)"
   ]
  },
  {
   "cell_type": "markdown",
   "metadata": {
    "id": "a2iZm5y_9NdD"
   },
   "source": [
    "#### Exercice 4\n",
    "> Refais l'exercice 3 en utilisant une boucle **While**."
   ]
  },
  {
   "cell_type": "code",
   "execution_count": 1,
   "metadata": {},
   "outputs": [
    {
     "name": "stdout",
     "output_type": "stream",
     "text": [
      "362880\n"
     ]
    }
   ],
   "source": [
    "p=1\n",
    "n=1\n",
    "while (n<=9):\n",
    "    p=p*n\n",
    "    n=n+1\n",
    "print(p)"
   ]
  },
  {
   "cell_type": "markdown",
   "metadata": {
    "id": "rb3k7Bve9NdE"
   },
   "source": [
    "#### Exercice 5 \n",
    ">Écris un programme qui demande à l'utilisateur de saisir un nombre n et qui affiche tous les nombres pairs de $1$ à $n$ en utilisant la boucle **For**."
   ]
  },
  {
   "cell_type": "code",
   "execution_count": 6,
   "metadata": {
    "id": "ibXs9RCB9NdF"
   },
   "outputs": [
    {
     "name": "stdout",
     "output_type": "stream",
     "text": [
      "saisir un nombre n 14\n",
      "2  est pair\n",
      "4  est pair\n",
      "6  est pair\n",
      "8  est pair\n",
      "10  est pair\n",
      "12  est pair\n",
      "14  est pair\n"
     ]
    }
   ],
   "source": [
    "n=int(input(\"saisir un nombre n \", ))\n",
    "i=1\n",
    "for i in range(1,n+1):\n",
    "    if (i%2==0):\n",
    "        print(i ,\" est pair\")\n",
    "        \n"
   ]
  },
  {
   "cell_type": "markdown",
   "metadata": {
    "id": "HPC3bfyE9NdG"
   },
   "source": [
    "#### Exercice 6\n",
    ">Refais l'exercice 5 en utilisant la boucle **While**."
   ]
  },
  {
   "cell_type": "code",
   "execution_count": 1,
   "metadata": {
    "id": "dRuTyo3m9NdH"
   },
   "outputs": [
    {
     "name": "stdout",
     "output_type": "stream",
     "text": [
      "saisir un nombre n 14\n",
      "2  est pair\n",
      "4  est pair\n",
      "6  est pair\n",
      "8  est pair\n",
      "10  est pair\n",
      "12  est pair\n",
      "14  est pair\n"
     ]
    }
   ],
   "source": [
    "n=int(input(\"saisir un nombre n \", ))\n",
    "i=1\n",
    "while i<=n:\n",
    "    if (i%2==0):\n",
    "        print(i , \" est pair\")\n",
    "    i=i+1"
   ]
  },
  {
   "cell_type": "markdown",
   "metadata": {
    "id": "6fNPIIdQ9NdH"
   },
   "source": [
    "#### Exercice 7\n",
    ">Écris un programme qui demande à l'utilisateur de saisir un nombre n et qui affiche tous les nombres impairs de 1 à n en utilisant la boucle **For**."
   ]
  },
  {
   "cell_type": "code",
   "execution_count": 2,
   "metadata": {
    "id": "LuVEv9Lc9NdI"
   },
   "outputs": [
    {
     "name": "stdout",
     "output_type": "stream",
     "text": [
      "saisir un nombre n 14\n",
      "1  est impair\n",
      "3  est impair\n",
      "5  est impair\n",
      "7  est impair\n",
      "9  est impair\n",
      "11  est impair\n",
      "13  est impair\n"
     ]
    }
   ],
   "source": [
    "n=int(input(\"saisir un nombre n \", ))\n",
    "i=1\n",
    "for i in range(1,n+1):\n",
    "    if (i%2!=0):\n",
    "        print(i ,\" est impair\")\n",
    "        "
   ]
  },
  {
   "cell_type": "markdown",
   "metadata": {
    "id": "HIlapsJ89NdK"
   },
   "source": [
    "#### Exercice 8\n",
    ">Refais l'exercice 7 en utilisant la boucle **While**.\n",
    "\n"
   ]
  },
  {
   "cell_type": "code",
   "execution_count": 4,
   "metadata": {
    "id": "Igvjeb2E9NdM"
   },
   "outputs": [
    {
     "name": "stdout",
     "output_type": "stream",
     "text": [
      "saisir un nombre n 14\n",
      "1  est impair\n",
      "3  est impair\n",
      "5  est impair\n",
      "7  est impair\n",
      "9  est impair\n",
      "11  est impair\n",
      "13  est impair\n"
     ]
    }
   ],
   "source": [
    "n=int(input(\"saisir un nombre n \", ))\n",
    "i=1\n",
    "while i<=n:\n",
    "    if (i%2!=0):\n",
    "        print(i , \" est impair\")\n",
    "    i=i+1"
   ]
  },
  {
   "cell_type": "markdown",
   "metadata": {
    "id": "KOYLg_e79NdU"
   },
   "source": [
    "#### Exercice 9\n",
    ">Écris un programme qui demande à l'utilisateur de saisir un nombre n et qui affiche sa table de multiplication  en utilisant la boucle **For**."
   ]
  },
  {
   "cell_type": "code",
   "execution_count": null,
   "metadata": {
    "id": "BvOU9oLw9NdU"
   },
   "outputs": [],
   "source": [
    "n=int(input(\"saisir un nombre n \", ))\n",
    "i=1\n",
    "for i in range(1,n+1):\n",
    "    print(i ,\"*\")"
   ]
  },
  {
   "cell_type": "markdown",
   "metadata": {
    "id": "Ukzy78L09NdV"
   },
   "source": [
    "#### Exercice 10\n",
    ">Refais l'exercice 9 en utilisant la boucle **While**."
   ]
  },
  {
   "cell_type": "code",
   "execution_count": null,
   "metadata": {
    "id": "fRJ3oufC9NdV"
   },
   "outputs": [],
   "source": [
    "n=int(input(\"saisir un nombre n \", ))\n",
    "i=1\n",
    "while i<=12:\n",
    "    p=i*"
   ]
  },
  {
   "cell_type": "markdown",
   "metadata": {
    "id": "AQW435Hq9NdW"
   },
   "source": [
    "#### Exercice 11\n",
    ">Écris un programme qui demande à l'utilisateur d'entrer un nombre et de trouver tous ses diviseurs  en utilisant la boucle **For**."
   ]
  },
  {
   "cell_type": "code",
   "execution_count": 12,
   "metadata": {
    "id": "Zjs_NfT89NdX"
   },
   "outputs": [
    {
     "name": "stdout",
     "output_type": "stream",
     "text": [
      "saisir un nombre n=  4\n",
      "1  est diviseur de 4\n",
      "2  est diviseur de 4\n",
      "4  est diviseur de 4\n"
     ]
    }
   ],
   "source": [
    "n=int(input(\"saisir un nombre n=  \",  ))\n",
    "for i in range(1,n+1):\n",
    "    if (n%i==0):\n",
    "        print(i, \" est diviseur de\", n )"
   ]
  },
  {
   "cell_type": "markdown",
   "metadata": {
    "id": "pGp6labk9NdX"
   },
   "source": [
    "#### Exercice 12\n",
    ">Écris un programme qui demande à l'utilisateur d'entrer un entier naturel n et de trouver tous sa factorielle n!  en utilisant la boucle **For**. On rappelle que $n!=n*(n-1)*(n-2)...3*2*1$."
   ]
  },
  {
   "cell_type": "code",
   "execution_count": 13,
   "metadata": {
    "id": "iDw3TKDU9NdX"
   },
   "outputs": [
    {
     "name": "stdout",
     "output_type": "stream",
     "text": [
      "saisir un entier naturel n=  6\n",
      "720  est le factoriel de  6\n"
     ]
    }
   ],
   "source": [
    "n=int(input(\"saisir un entier naturel n=  \",  ))\n",
    "fact=1\n",
    "for i in range(1,n+1):\n",
    "    fact=fact*i\n",
    "print(fact, \" est le factoriel de \", n)"
   ]
  },
  {
   "cell_type": "markdown",
   "metadata": {
    "id": "eyKh1oTo9NdY"
   },
   "source": [
    "#### Exercice 13\n",
    ">Écris un programme qui demande à l'utilisateur d'entrer deux entiers naturels (plus petits que 15) et de trouver leur plus petit commun multiple utilisant la boucle **For**."
   ]
  },
  {
   "cell_type": "code",
   "execution_count": 17,
   "metadata": {
    "id": "ombGnLVQ9NdY"
   },
   "outputs": [
    {
     "name": "stdout",
     "output_type": "stream",
     "text": [
      "saisir un entier naturel plus petit que 15 n=  5\n",
      "saisir un entier naturel plus petit que 15 m=  3\n",
      "le ppcm de 5 et 3 est 15\n"
     ]
    }
   ],
   "source": [
    "n=int(input(\"saisir un entier naturel plus petit que 15 n=  \"  ))\n",
    "m=int(input(\"saisir un entier naturel plus petit que 15 m=  \"  ))\n",
    "for i in range(1,(n*m)+1):\n",
    "    if (n%m==0):\n",
    "        print(\"le ppcm de\", n ,\"et\", m ,\"est\", n)\n",
    "        break\n",
    "    elif (m%n==0):\n",
    "        print(\"le ppcm de\" ,n ,\"et\", m ,\"est\", m)\n",
    "        break\n",
    "    else:\n",
    "        print(\"le ppcm de\" ,n ,\"et\", m ,\"est\", n*m)\n",
    "        break"
   ]
  },
  {
   "cell_type": "markdown",
   "metadata": {
    "id": "j4zO7-ak9NdZ"
   },
   "source": [
    "#### Exercice 14\n",
    ">Écris un programme pour afficher la série de Fibonacci jusqu'à n termes en utilisant une boucle."
   ]
  },
  {
   "cell_type": "code",
   "execution_count": 2,
   "metadata": {
    "id": "5UknLOdY9NdZ"
   },
   "outputs": [
    {
     "name": "stdout",
     "output_type": "stream",
     "text": [
      "entrer la valeur de n : 8\n",
      "on a la suite : \n",
      "  1 \n",
      " 1\n",
      "2\n",
      "3\n",
      "5\n",
      "8\n",
      "13\n",
      "21\n"
     ]
    }
   ],
   "source": [
    "m=1\n",
    "p=1\n",
    "n=int(input(\"entrer la valeur de n : \"))\n",
    "if (n<1):\n",
    "    print(\"pas de suite\")\n",
    "elif(n>=1 and n<=2):\n",
    "    print(\"la suite de fibonacci est: 1 1 \")\n",
    "else:\n",
    "    i=1\n",
    "    print(\"on a la suite : \\n \",\"1 \\n\",\"1\")\n",
    "    while(i<=n-2):\n",
    "        d=m+p\n",
    "        p=m\n",
    "        m=d\n",
    "        i+=1\n",
    "        print(d)"
   ]
  },
  {
   "cell_type": "markdown",
   "metadata": {
    "id": "_RBVFZdl9Nda"
   },
   "source": [
    "#### Exercice 15\n",
    ">Écris, en utilisant une boucle **For**, un programme pour afficher 5 fois de suite le message \"Python est un très bon langage de programmation\"."
   ]
  },
  {
   "cell_type": "code",
   "execution_count": 7,
   "metadata": {
    "id": "IA5dPbgd9Nda"
   },
   "outputs": [
    {
     "name": "stdout",
     "output_type": "stream",
     "text": [
      "Python est un très bon langage de programmation\n",
      "Python est un très bon langage de programmation\n",
      "Python est un très bon langage de programmation\n",
      "Python est un très bon langage de programmation\n",
      "Python est un très bon langage de programmation\n"
     ]
    }
   ],
   "source": [
    "for i in range(1,6):\n",
    "    print(\"Python est un très bon langage de programmation\")"
   ]
  },
  {
   "cell_type": "markdown",
   "metadata": {
    "id": "VUgurSg59Nda"
   },
   "source": [
    "#### Exercice 16\n",
    ">Écris, en utilisant une boucle **While**, un programme pour afficher 7 fois de suite le message \"A cette allure je finirai par tout abandonner pour la programmation\"."
   ]
  },
  {
   "cell_type": "code",
   "execution_count": 3,
   "metadata": {
    "id": "TgE99bdh9Ndb"
   },
   "outputs": [
    {
     "name": "stdout",
     "output_type": "stream",
     "text": [
      "Python est un très bon langage de programmation\n",
      "Python est un très bon langage de programmation\n",
      "Python est un très bon langage de programmation\n",
      "Python est un très bon langage de programmation\n",
      "Python est un très bon langage de programmation\n"
     ]
    }
   ],
   "source": [
    "i=1\n",
    "while i<=5:\n",
    "    print(\"Python est un très bon langage de programmation\")\n",
    "    i=i+1"
   ]
  },
  {
   "cell_type": "markdown",
   "metadata": {
    "id": "DVgTXQRX9Ndb"
   },
   "source": [
    "#### Exercice 17\n",
    ">Écris, en utilisant une boucle **For**, un programme qui compte à l'envers de 10 à 0 puis qui affiche le message \"Partez\".\n"
   ]
  },
  {
   "cell_type": "code",
   "execution_count": 8,
   "metadata": {
    "id": "w4L4KV6C9Ndc"
   },
   "outputs": [
    {
     "name": "stdout",
     "output_type": "stream",
     "text": [
      "10\n",
      "9\n",
      "8\n",
      "7\n",
      "6\n",
      "5\n",
      "4\n",
      "3\n",
      "2\n",
      "1\n",
      "0\n",
      "Partez\n"
     ]
    }
   ],
   "source": [
    "n=11\n",
    "for i in range(n):\n",
    "    n=n-1\n",
    "    print(n)\n",
    "print( \"Partez\")"
   ]
  },
  {
   "cell_type": "markdown",
   "metadata": {
    "id": "raJAaAd29Ndc"
   },
   "source": [
    "#### Exercice 18\n",
    ">Écris, en utilisant une boucle **For**, un programme qui affiche chaque élément d'une chaine de caractère."
   ]
  },
  {
   "cell_type": "code",
   "execution_count": 11,
   "metadata": {
    "id": "wZv1gX4c9Ndd"
   },
   "outputs": [
    {
     "name": "stdout",
     "output_type": "stream",
     "text": [
      "M\n",
      "A\n",
      "M\n",
      "A\n",
      "D\n",
      "O\n",
      "U\n",
      "W\n",
      "A\n",
      "L\n",
      "Y\n"
     ]
    }
   ],
   "source": [
    "ch=\"MAMADOUWALY\"\n",
    "for i in ch:\n",
    "    print(i)"
   ]
  },
  {
   "cell_type": "markdown",
   "metadata": {
    "id": "095_Dtoc9Ndf"
   },
   "source": [
    "#### Exercice 19\n",
    ">Écris, en utilisant une boucle **For**, un programme qui compte à l'envers de 10 à 0 puis qui affiche le message \"Partez\"."
   ]
  },
  {
   "cell_type": "code",
   "execution_count": 9,
   "metadata": {
    "id": "MOV4pZzn9Ndg"
   },
   "outputs": [
    {
     "name": "stdout",
     "output_type": "stream",
     "text": [
      "10\n",
      "9\n",
      "8\n",
      "7\n",
      "6\n",
      "5\n",
      "4\n",
      "3\n",
      "2\n",
      "1\n",
      "0\n",
      "Partez\n"
     ]
    }
   ],
   "source": [
    "m=11\n",
    "for i in range(m):\n",
    "    m=m-1\n",
    "    print(m)\n",
    "print( \"Partez\")"
   ]
  },
  {
   "cell_type": "markdown",
   "metadata": {
    "id": "5sUU7dgJ9Ndh"
   },
   "source": [
    "<center> <b> <span style=\"color:orange;\"> 🎉 FÉLICITATIONS ! / CONGRATULATIONS! 🎉 </span> </b></center>"
   ]
  }
 ],
 "metadata": {
  "colab": {
   "name": "Exercices_03_Boucles.ipynb",
   "provenance": []
  },
  "kernelspec": {
   "display_name": "Python 3",
   "language": "python",
   "name": "python3"
  },
  "language_info": {
   "codemirror_mode": {
    "name": "ipython",
    "version": 3
   },
   "file_extension": ".py",
   "mimetype": "text/x-python",
   "name": "python",
   "nbconvert_exporter": "python",
   "pygments_lexer": "ipython3",
   "version": "3.7.3"
  }
 },
 "nbformat": 4,
 "nbformat_minor": 1
}
